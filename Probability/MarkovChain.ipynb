{
 "cells": [
  {
   "cell_type": "markdown",
   "metadata": {},
   "source": [
    "# Markov Chain"
   ]
  },
  {
   "cell_type": "markdown",
   "metadata": {},
   "source": [
    "## Acknowledgments"
   ]
  },
  {
   "cell_type": "markdown",
   "metadata": {},
   "source": [
    "* **Coursera Stanford course**: https://www.coursera.org/lecture/probabilistic-graphical-models-2-inference"
   ]
  },
  {
   "cell_type": "markdown",
   "metadata": {},
   "source": [
    "## Grasshopper example"
   ]
  },
  {
   "cell_type": "markdown",
   "metadata": {},
   "source": [
    "<img src=\"media/MarkovChain00.png\">"
   ]
  },
  {
   "cell_type": "markdown",
   "metadata": {},
   "source": [
    "This grasshopper has a probability of:\n",
    "* 0.25 of leaping to its right.\n",
    "* 0.25 of leaping to its left.\n",
    "* 0.5 of staying in the same spot."
   ]
  },
  {
   "cell_type": "markdown",
   "metadata": {},
   "source": [
    "\n",
    "|   | -2 | -1  | 0 | 1  | 2 |\n",
    "| :---: | :---: | :---: | :---: | :---: | :---: |\n",
    "| $\\mathrm{P^{(0)}}$  | 0  | 0  | 1  | 0  | 0  |\n",
    "| $\\mathrm{P^{(1)}}$  | 0  | 0.25  | 0.5  | 0.25  | 0  |\n",
    "| $\\mathrm{P^{(2)}}$  | 0.0625  | 0.25  | 0.375  | 0.25  | 0.0625  |"
   ]
  },
  {
   "cell_type": "markdown",
   "metadata": {},
   "source": [
    "### Stationary distribution"
   ]
  },
  {
   "cell_type": "markdown",
   "metadata": {},
   "source": [
    "$\\pi(x^0) = 0.5\\pi(x^{0}) + 0.25\\pi(x^{-1}) + 0.25\\pi(x^{1})$\n",
    "\n",
    "$\\pi(x^t) = 0.5\\pi(x^{t}) + 0.25\\pi(x^{t-1}) + 0.25\\pi(x^{t+1})$\n",
    "\n",
    "$\\pi(x^t) = 2 \\left [  0.25 \\ \\pi(x^{t-1}) + 0.25 \\ \\pi(x^{t+1}) \\right ]$\n",
    "\n",
    "$\\pi(x^t) = \\frac{1}{2} \\left [  \\pi(x^{t-1}) + \\pi(x^{t+1}) \\right ]$\n",
    "\n",
    "So...\n",
    "\n",
    "$\\pi(x^t) = \\pi(x^{t-1}) = \\pi(x^{t+1})$\n",
    "\n",
    "$\\pi(x) = unif(-4, +4) = \\frac{1}{9}$"
   ]
  }
 ],
 "metadata": {
  "kernelspec": {
   "display_name": "Python 2",
   "language": "python",
   "name": "python2"
  },
  "language_info": {
   "codemirror_mode": {
    "name": "ipython",
    "version": 2
   },
   "file_extension": ".py",
   "mimetype": "text/x-python",
   "name": "python",
   "nbconvert_exporter": "python",
   "pygments_lexer": "ipython2",
   "version": "2.7.12"
  }
 },
 "nbformat": 4,
 "nbformat_minor": 2
}

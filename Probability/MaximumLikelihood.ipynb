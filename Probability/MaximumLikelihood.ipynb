{
 "cells": [
  {
   "cell_type": "markdown",
   "metadata": {},
   "source": [
    "# Maximum Likelihood Estimation"
   ]
  },
  {
   "cell_type": "code",
   "execution_count": 1,
   "metadata": {},
   "outputs": [],
   "source": [
    "import numpy as np\n",
    "from __future__ import division"
   ]
  },
  {
   "cell_type": "markdown",
   "metadata": {},
   "source": [
    "## Likelihood"
   ]
  },
  {
   "cell_type": "markdown",
   "metadata": {},
   "source": [
    "Given a linear regression problem:"
   ]
  },
  {
   "cell_type": "markdown",
   "metadata": {},
   "source": [
    "$$y_i = \\boldsymbol{\\theta}^{T}\\boldsymbol{x}_i + \\epsilon$$"
   ]
  },
  {
   "cell_type": "code",
   "execution_count": 2,
   "metadata": {},
   "outputs": [],
   "source": [
    "real_theta = np.array([2, -4, -1, 3])\n",
    "noise_sigma = 2.5"
   ]
  },
  {
   "cell_type": "code",
   "execution_count": 3,
   "metadata": {},
   "outputs": [],
   "source": [
    "f = lambda x: real_theta.dot(x) + np.random.normal(0, noise_sigma)"
   ]
  },
  {
   "cell_type": "markdown",
   "metadata": {},
   "source": [
    "### Data"
   ]
  },
  {
   "cell_type": "code",
   "execution_count": 4,
   "metadata": {},
   "outputs": [],
   "source": [
    "m = 1000"
   ]
  },
  {
   "cell_type": "code",
   "execution_count": 5,
   "metadata": {},
   "outputs": [],
   "source": [
    "X = np.random.randint(-20, 20, size=[3, m])\n",
    "X = np.vstack([X, np.ones([1, m])])\n",
    "\n",
    "Y = f(X)"
   ]
  },
  {
   "cell_type": "markdown",
   "metadata": {},
   "source": [
    "### Hypothesis"
   ]
  },
  {
   "cell_type": "markdown",
   "metadata": {},
   "source": [
    "$$ p(y_i \\: | \\: \\boldsymbol{x}_i; \\boldsymbol{\\theta}) = \\frac{1}{\\sqrt{2\\pi\\sigma^2}} \\textrm{exp} \\left ( -\\frac{(y_i - \\boldsymbol{\\theta}^{T}\\boldsymbol{x}_i)^2}{2\\sigma^2} \\right )$$"
   ]
  },
  {
   "cell_type": "markdown",
   "metadata": {},
   "source": [
    "$$L(\\boldsymbol{\\theta}) = \\prod_{i=1}^{m}\\frac{1}{\\sqrt{2\\pi\\sigma^2}} \\textrm{exp} \\left ( -\\frac{(y_i - \\boldsymbol{\\theta}^{T}\\boldsymbol{x}_i)^2}{2\\sigma^2} \\right )$$"
   ]
  },
  {
   "cell_type": "code",
   "execution_count": 6,
   "metadata": {},
   "outputs": [],
   "source": [
    "my_hypothesis = np.array([2, -3, 0, 1])"
   ]
  },
  {
   "cell_type": "code",
   "execution_count": 7,
   "metadata": {},
   "outputs": [],
   "source": [
    "# normal distribution without the normalizer\n",
    "norm = lambda m, s: lambda x: np.exp(-((x - m)**2)/(2*s**2))"
   ]
  },
  {
   "cell_type": "code",
   "execution_count": 8,
   "metadata": {},
   "outputs": [],
   "source": [
    "std = 500\n",
    "\n",
    "likelihood = 1\n",
    "for i, pred in enumerate(my_hypothesis.dot(X)):\n",
    "    p = norm(pred, std)\n",
    "    likelihood *= p(Y[i])"
   ]
  },
  {
   "cell_type": "code",
   "execution_count": 9,
   "metadata": {},
   "outputs": [
    {
     "data": {
      "text/plain": [
       "0.5922683280406559"
      ]
     },
     "execution_count": 9,
     "metadata": {},
     "output_type": "execute_result"
    }
   ],
   "source": [
    "likelihood"
   ]
  },
  {
   "cell_type": "markdown",
   "metadata": {},
   "source": [
    "Let's see the likelihood with the real theta"
   ]
  },
  {
   "cell_type": "code",
   "execution_count": 10,
   "metadata": {},
   "outputs": [],
   "source": [
    "std = 500\n",
    "\n",
    "likelihood = 1\n",
    "for i, pred in enumerate(real_theta.dot(X)):\n",
    "    p = norm(pred, std)\n",
    "    likelihood *= p(Y[i])"
   ]
  },
  {
   "cell_type": "code",
   "execution_count": 11,
   "metadata": {},
   "outputs": [
    {
     "data": {
      "text/plain": [
       "0.9996541181782599"
      ]
     },
     "execution_count": 11,
     "metadata": {},
     "output_type": "execute_result"
    }
   ],
   "source": [
    "likelihood"
   ]
  },
  {
   "cell_type": "markdown",
   "metadata": {},
   "source": [
    "## Maximum Likelihood"
   ]
  },
  {
   "cell_type": "markdown",
   "metadata": {},
   "source": [
    "$$\\boldsymbol{\\theta}_{ML} = \\underset{\\boldsymbol{\\theta}}{\\mathrm{arg\\, max}}\\, L(\\boldsymbol{\\theta})$$"
   ]
  },
  {
   "cell_type": "code",
   "execution_count": 12,
   "metadata": {},
   "outputs": [],
   "source": [
    "N_hyp = 10000"
   ]
  },
  {
   "cell_type": "code",
   "execution_count": 13,
   "metadata": {},
   "outputs": [],
   "source": [
    "random_hypothesis = np.random.randint(-5, 5, size=[4, N_hyp])"
   ]
  },
  {
   "cell_type": "code",
   "execution_count": 14,
   "metadata": {},
   "outputs": [],
   "source": [
    "std = 500\n",
    "\n",
    "likelihoods = []\n",
    "\n",
    "for preds in random_hypothesis.T.dot(X):\n",
    "    \n",
    "    this_likelihood = 1\n",
    "    for i in range(len(preds)):\n",
    "        p = norm(preds[i], std)\n",
    "        this_likelihood *= p(Y[i])\n",
    "        \n",
    "        # If this likelihood is going lower than the so far maximum likelihood, reject the hypothesis\n",
    "        if likelihoods:\n",
    "            if this_likelihood < max(likelihoods):\n",
    "                break\n",
    "        \n",
    "    likelihoods.append(this_likelihood)"
   ]
  },
  {
   "cell_type": "code",
   "execution_count": 15,
   "metadata": {},
   "outputs": [],
   "source": [
    "max_likelihood = max(likelihoods)\n",
    "argmax = np.argmax(likelihoods)"
   ]
  },
  {
   "cell_type": "code",
   "execution_count": 16,
   "metadata": {},
   "outputs": [
    {
     "data": {
      "text/plain": [
       "(0.9996541181782599, 313)"
      ]
     },
     "execution_count": 16,
     "metadata": {},
     "output_type": "execute_result"
    }
   ],
   "source": [
    "max_likelihood, argmax"
   ]
  },
  {
   "cell_type": "code",
   "execution_count": 17,
   "metadata": {},
   "outputs": [
    {
     "data": {
      "text/plain": [
       "array([ 2, -4, -1,  3])"
      ]
     },
     "execution_count": 17,
     "metadata": {},
     "output_type": "execute_result"
    }
   ],
   "source": [
    "random_hypothesis.T[argmax]"
   ]
  },
  {
   "cell_type": "markdown",
   "metadata": {},
   "source": [
    "## Maximum Log Likelihood"
   ]
  },
  {
   "cell_type": "markdown",
   "metadata": {},
   "source": [
    "$$\\ell(\\boldsymbol{\\theta}) = \\sum_{i=1}^{m}\\textrm{log}\\frac{1}{\\sqrt{2\\pi\\sigma^2}} \\textrm{exp} \\left ( -\\frac{(y_i - \\boldsymbol{\\theta}^{T}\\boldsymbol{x}_i)^2}{2\\sigma^2} \\right )$$\n",
    "\n",
    "$$\\boldsymbol{\\theta}_{MLL} = \\underset{\\boldsymbol{\\theta}}{\\mathrm{arg\\, max}}\\, \\ell(\\boldsymbol{\\theta})$$"
   ]
  },
  {
   "cell_type": "code",
   "execution_count": 18,
   "metadata": {},
   "outputs": [],
   "source": [
    "std = 10\n",
    "\n",
    "log_likelihoods = []\n",
    "\n",
    "for preds in random_hypothesis.T.dot(X):\n",
    "    \n",
    "    this_log_likelihood = 0\n",
    "    for i in range(len(preds)):\n",
    "        p = norm(preds[i], std)\n",
    "        this_log_likelihood += np.log(p(Y[i])) # Now its a sum!!\n",
    "        \n",
    "        # We don't need to worry about the likelihood going to zero, since this is a sum\n",
    "        \n",
    "    log_likelihoods.append(this_log_likelihood)"
   ]
  },
  {
   "cell_type": "code",
   "execution_count": 19,
   "metadata": {},
   "outputs": [],
   "source": [
    "max_log_ikelihood = max(log_likelihoods)\n",
    "argmax = np.argmax(log_likelihoods)"
   ]
  },
  {
   "cell_type": "code",
   "execution_count": 20,
   "metadata": {},
   "outputs": [
    {
     "data": {
      "text/plain": [
       "(-0.864854131655633, 313)"
      ]
     },
     "execution_count": 20,
     "metadata": {},
     "output_type": "execute_result"
    }
   ],
   "source": [
    "max_log_ikelihood, argmax"
   ]
  },
  {
   "cell_type": "code",
   "execution_count": 21,
   "metadata": {},
   "outputs": [
    {
     "data": {
      "text/plain": [
       "array([ 2, -4, -1,  3])"
      ]
     },
     "execution_count": 21,
     "metadata": {},
     "output_type": "execute_result"
    }
   ],
   "source": [
    "random_hypothesis.T[argmax]"
   ]
  },
  {
   "cell_type": "code",
   "execution_count": null,
   "metadata": {},
   "outputs": [],
   "source": []
  }
 ],
 "metadata": {
  "kernelspec": {
   "display_name": "Python 2",
   "language": "python",
   "name": "python2"
  },
  "language_info": {
   "codemirror_mode": {
    "name": "ipython",
    "version": 2
   },
   "file_extension": ".py",
   "mimetype": "text/x-python",
   "name": "python",
   "nbconvert_exporter": "python",
   "pygments_lexer": "ipython2",
   "version": "2.7.12"
  }
 },
 "nbformat": 4,
 "nbformat_minor": 2
}

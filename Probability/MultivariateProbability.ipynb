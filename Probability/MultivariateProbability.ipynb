{
 "cells": [
  {
   "cell_type": "markdown",
   "metadata": {},
   "source": [
    "# Multivariate Probabilty"
   ]
  },
  {
   "cell_type": "markdown",
   "metadata": {},
   "source": [
    "## Joint probability"
   ]
  },
  {
   "cell_type": "markdown",
   "metadata": {},
   "source": [
    "### Dice example (2 random variables)"
   ]
  },
  {
   "cell_type": "markdown",
   "metadata": {},
   "source": [
    "|  | 1 | 2  | 3 | 4  | 5 | 6 |\n",
    "| :---: | :---: | :---: | :---: | :---: | :---: | :---: |\n",
    "| $\\mathrm{A}$  | 0  | 1  | 0  | 1  | 0  | 1 |\n",
    "| $\\mathrm{B}$  | 0  | 1  | 1  | 0  | 1  | 0 |"
   ]
  },
  {
   "cell_type": "code",
   "execution_count": 1,
   "metadata": {},
   "outputs": [],
   "source": [
    "import numpy as np\n",
    "from __future__ import division"
   ]
  },
  {
   "cell_type": "code",
   "execution_count": 2,
   "metadata": {},
   "outputs": [],
   "source": [
    "def isPrime(n):\n",
    "    if n == 1: return False\n",
    "    for i in range(2, n//2 + 1):\n",
    "        if n%i == 0:\n",
    "            return False\n",
    "    return True"
   ]
  },
  {
   "cell_type": "code",
   "execution_count": 3,
   "metadata": {},
   "outputs": [],
   "source": [
    "f_A = lambda x: 1 if x%2==0 else 0\n",
    "f_B = lambda x: 1 if isPrime(x) else 0"
   ]
  },
  {
   "cell_type": "code",
   "execution_count": 4,
   "metadata": {},
   "outputs": [],
   "source": [
    "sides = 6"
   ]
  },
  {
   "cell_type": "code",
   "execution_count": 5,
   "metadata": {},
   "outputs": [],
   "source": [
    "N = 100000"
   ]
  },
  {
   "cell_type": "code",
   "execution_count": 6,
   "metadata": {},
   "outputs": [],
   "source": [
    "A_samples = []\n",
    "B_samples = []\n",
    "JAB_samples = []\n",
    "\n",
    "for i in range(N):\n",
    "    x = np.random.randint(1, sides+1) # Stochastic\n",
    "    a = f_A(x) # Deterministic\n",
    "    b = f_B(x) # Deterministic\n",
    "    jAB = (a, b)\n",
    "    \n",
    "    A_samples.append(a)\n",
    "    B_samples.append(b)\n",
    "    JAB_samples.append(jAB)"
   ]
  },
  {
   "cell_type": "code",
   "execution_count": 7,
   "metadata": {},
   "outputs": [],
   "source": [
    "from collections import Counter\n",
    "\n",
    "def get_P(samples):\n",
    "    counter = dict(Counter(samples))\n",
    "    P = dict.fromkeys(counter.keys())\n",
    "    for key, value in counter.iteritems():\n",
    "        P[key] = value/len(samples)\n",
    "    return P"
   ]
  },
  {
   "cell_type": "code",
   "execution_count": 8,
   "metadata": {},
   "outputs": [],
   "source": [
    "P_A = get_P(A_samples)\n",
    "P_B = get_P(B_samples)\n",
    "P_JAB = get_P(JAB_samples)"
   ]
  },
  {
   "cell_type": "code",
   "execution_count": 9,
   "metadata": {},
   "outputs": [],
   "source": [
    "A = list(set(P_A))\n",
    "B = list(set(P_B))"
   ]
  },
  {
   "cell_type": "code",
   "execution_count": 10,
   "metadata": {},
   "outputs": [
    {
     "data": {
      "text/plain": [
       "{(0, 0): 0.16881, (0, 1): 0.33029, (1, 0): 0.33374, (1, 1): 0.16716}"
      ]
     },
     "execution_count": 10,
     "metadata": {},
     "output_type": "execute_result"
    }
   ],
   "source": [
    "P_JAB"
   ]
  },
  {
   "cell_type": "code",
   "execution_count": 11,
   "metadata": {},
   "outputs": [
    {
     "data": {
      "text/plain": [
       "0.3382288118613504"
      ]
     },
     "execution_count": 11,
     "metadata": {},
     "output_type": "execute_result"
    }
   ],
   "source": [
    "P_JAB[(0, 0)]/P_A[0]"
   ]
  },
  {
   "cell_type": "markdown",
   "metadata": {},
   "source": [
    "## Marginal probability"
   ]
  },
  {
   "cell_type": "code",
   "execution_count": 12,
   "metadata": {},
   "outputs": [
    {
     "data": {
      "text/plain": [
       "0.4991"
      ]
     },
     "execution_count": 12,
     "metadata": {},
     "output_type": "execute_result"
    }
   ],
   "source": [
    "sum([P_JAB[(0, b)] for b in B])"
   ]
  },
  {
   "cell_type": "markdown",
   "metadata": {},
   "source": [
    "### Dice example (3 random variables)"
   ]
  },
  {
   "cell_type": "markdown",
   "metadata": {},
   "source": [
    "|  | 1 | 2  | 3 | 4  | 5 | 6 |\n",
    "| :---: | :---: | :---: | :---: | :---: | :---: | :---: |\n",
    "| $\\mathrm{A}$  | 0  | 1  | 0  | 1  | 0  | 1 |\n",
    "| $\\mathrm{B}$  | 0  | 1  | 1  | 0  | 1  | 0 |\n",
    "| $\\mathrm{C}$  | 0  | 0  | 1  | 0  | 0  | 1 |"
   ]
  },
  {
   "cell_type": "code",
   "execution_count": 13,
   "metadata": {},
   "outputs": [],
   "source": [
    "f_C = lambda x: 1 if x%3==0 else 0"
   ]
  },
  {
   "cell_type": "code",
   "execution_count": 14,
   "metadata": {},
   "outputs": [],
   "source": [
    "C_samples = []\n",
    "JABC_samples = []\n",
    "\n",
    "for i in range(N):\n",
    "    x = np.random.randint(1, sides+1)\n",
    "    a = f_A(x)\n",
    "    b = f_B(x)\n",
    "    c = f_C(x)\n",
    "    jABC = (a, b, c)\n",
    "    \n",
    "    C_samples.append(c)\n",
    "    JABC_samples.append(jABC)"
   ]
  },
  {
   "cell_type": "code",
   "execution_count": 15,
   "metadata": {},
   "outputs": [],
   "source": [
    "P_C = get_P(C_samples)\n",
    "P_JABC = get_P(JABC_samples)"
   ]
  },
  {
   "cell_type": "code",
   "execution_count": 16,
   "metadata": {},
   "outputs": [],
   "source": [
    "C = list(set(P_C))"
   ]
  },
  {
   "cell_type": "code",
   "execution_count": 17,
   "metadata": {},
   "outputs": [],
   "source": [
    "import itertools"
   ]
  },
  {
   "cell_type": "code",
   "execution_count": 18,
   "metadata": {},
   "outputs": [],
   "source": [
    "for a, b, c in itertools.product(A, B, C):\n",
    "    if (a, b, c) not in P_JABC.keys():\n",
    "        P_JABC[(a, b, c)] = 0."
   ]
  },
  {
   "cell_type": "code",
   "execution_count": 19,
   "metadata": {},
   "outputs": [
    {
     "data": {
      "text/plain": [
       "{(0, 0, 0): 0.16526,\n",
       " (0, 0, 1): 0.0,\n",
       " (0, 1, 0): 0.16741,\n",
       " (0, 1, 1): 0.16556,\n",
       " (1, 0, 0): 0.16883,\n",
       " (1, 0, 1): 0.16702,\n",
       " (1, 1, 0): 0.16592,\n",
       " (1, 1, 1): 0.0}"
      ]
     },
     "execution_count": 19,
     "metadata": {},
     "output_type": "execute_result"
    }
   ],
   "source": [
    "P_JABC"
   ]
  },
  {
   "cell_type": "code",
   "execution_count": 20,
   "metadata": {},
   "outputs": [
    {
     "data": {
      "text/plain": [
       "0.49823000000000006"
      ]
     },
     "execution_count": 20,
     "metadata": {},
     "output_type": "execute_result"
    }
   ],
   "source": [
    "sum([P_JABC[(0, b, c)] for b, c in itertools.product(B, C)])"
   ]
  },
  {
   "cell_type": "code",
   "execution_count": 21,
   "metadata": {},
   "outputs": [
    {
     "data": {
      "text/plain": [
       "0.33404"
      ]
     },
     "execution_count": 21,
     "metadata": {},
     "output_type": "execute_result"
    }
   ],
   "source": [
    "sum([P_JABC[(a, b, 1)] for b, c in itertools.product(A, B)])"
   ]
  },
  {
   "cell_type": "markdown",
   "metadata": {},
   "source": [
    "## Chain rule of conditional probability"
   ]
  },
  {
   "cell_type": "code",
   "execution_count": 22,
   "metadata": {},
   "outputs": [],
   "source": [
    "JAC_samples = []\n",
    "JBC_samples = []\n",
    "\n",
    "for i in range(N):\n",
    "    x = np.random.randint(1, sides+1)\n",
    "    a, b, c = f_A(x), f_B(x), f_C(x)\n",
    "    \n",
    "    jAC = (a, c)\n",
    "    jBC = (b, c)\n",
    "    \n",
    "    JAC_samples.append(jAC)\n",
    "    JBC_samples.append(jBC)\n",
    "    \n",
    "P_JAC = get_P(JAC_samples)\n",
    "P_JBC = get_P(JBC_samples)"
   ]
  },
  {
   "cell_type": "code",
   "execution_count": 23,
   "metadata": {},
   "outputs": [
    {
     "data": {
      "text/plain": [
       "0.5004494516689639"
      ]
     },
     "execution_count": 23,
     "metadata": {},
     "output_type": "execute_result"
    }
   ],
   "source": [
    "# Probability of getting a multiple of 3 knowing that is not prime but multiple of 2\n",
    "P_JABC[(1, 0, 1)]/P_JAB[(1, 0)]"
   ]
  },
  {
   "cell_type": "markdown",
   "metadata": {},
   "source": [
    "## Independence"
   ]
  },
  {
   "cell_type": "code",
   "execution_count": 24,
   "metadata": {},
   "outputs": [],
   "source": [
    "A_samples = []\n",
    "B_samples = []\n",
    "JAB_samples = []\n",
    "\n",
    "for i in range(N):\n",
    "    x = np.random.randint(1, sides+1)\n",
    "    a = f_A(x)\n",
    "    \n",
    "    y = np.random.randint(1, sides+1)\n",
    "    b = f_B(y)\n",
    "    jAB = (a, b)\n",
    "    \n",
    "    A_samples.append(a)\n",
    "    B_samples.append(b)\n",
    "    JAB_samples.append(jAB)"
   ]
  },
  {
   "cell_type": "code",
   "execution_count": 25,
   "metadata": {},
   "outputs": [],
   "source": [
    "P_A = get_P(A_samples)\n",
    "P_B = get_P(B_samples)\n",
    "P_JAB = get_P(JAB_samples)"
   ]
  },
  {
   "cell_type": "code",
   "execution_count": 26,
   "metadata": {},
   "outputs": [
    {
     "data": {
      "text/plain": [
       "0.25172"
      ]
     },
     "execution_count": 26,
     "metadata": {},
     "output_type": "execute_result"
    }
   ],
   "source": [
    "P_JAB[(0, 0)]"
   ]
  },
  {
   "cell_type": "code",
   "execution_count": 27,
   "metadata": {},
   "outputs": [
    {
     "data": {
      "text/plain": [
       "0.2516821663"
      ]
     },
     "execution_count": 27,
     "metadata": {},
     "output_type": "execute_result"
    }
   ],
   "source": [
    "P_A[0] * P_B[0]"
   ]
  }
 ],
 "metadata": {
  "kernelspec": {
   "display_name": "Python 2",
   "language": "python",
   "name": "python2"
  },
  "language_info": {
   "codemirror_mode": {
    "name": "ipython",
    "version": 2
   },
   "file_extension": ".py",
   "mimetype": "text/x-python",
   "name": "python",
   "nbconvert_exporter": "python",
   "pygments_lexer": "ipython2",
   "version": "2.7.12"
  }
 },
 "nbformat": 4,
 "nbformat_minor": 2
}

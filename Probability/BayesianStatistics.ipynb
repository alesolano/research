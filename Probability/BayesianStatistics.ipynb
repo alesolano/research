{
 "cells": [
  {
   "cell_type": "markdown",
   "metadata": {},
   "source": [
    "### Definitions"
   ]
  },
  {
   "cell_type": "markdown",
   "metadata": {},
   "source": [
    "* $x$ , a **data** point in general. This may in fact be a vector of values.\n",
    "* $\\theta$ , the **parameter** of the data point's distribution, i.e., $x\\sim p(x\\mid \\theta )$ . This may in fact be a vector of parameters.\n",
    "* $\\alpha$ , the **hyperparameter** of the parameter distribution, i.e., $\\theta \\sim p(\\theta \\mid \\alpha )$ . This may in fact be a vector of hyperparameters.\n",
    "* $\\mathbf {X}$ is the **sample**, a set of $n$ observed data points, i.e., $x_{1},\\ldots ,x_{n}$ ."
   ]
  },
  {
   "cell_type": "markdown",
   "metadata": {},
   "source": [
    "### Bayesian Inference"
   ]
  },
  {
   "cell_type": "markdown",
   "metadata": {},
   "source": [
    "* The **prior distribution** is the distribution of the parameter(s) before any data is observed, i.e. $p(\\theta \\mid \\alpha )$.\n",
    "* The **sampling distribution** is the distribution of the observed data conditional on its parameters, i.e. $p(\\mathbf {X} \\mid \\theta )$ . This is also termed the **likelihood**, especially when viewed as a function of the parameter(s), sometimes written $\\operatorname {L} (\\theta \\mid \\mathbf {X} )=p(\\mathbf {X} \\mid \\theta )$ .\n",
    "* The **marginal likelihood** (sometimes also termed the **evidence**) is the distribution of the observed data marginalized over the parameter(s), i.e. $ p(\\mathbf {X} \\mid \\alpha )=\\int p(\\mathbf {X} \\mid \\theta )p(\\theta \\mid \\alpha )\\operatorname {d} \\!\\theta$ .\n",
    "* The **posterior distribution** is the distribution of the parameter(s) after taking into account the observed data. This is determined by **Bayes' rule**, which forms the heart of Bayesian inference:\n",
    "$$p(\\theta \\mid \\mathbf {X} ,\\alpha )={\\frac {p(\\mathbf {X} \\mid \\theta )p(\\theta \\mid \\alpha )}{p(\\mathbf {X} \\mid \\alpha )}}\\propto p(\\mathbf {X} \\mid \\theta )p(\\theta \\mid \\alpha )$$\n",
    "Note that this is expressed in words as \"posterior is proportional to likelihood times prior\", or sometimes as \"posterior = likelihood times prior, over evidence\"."
   ]
  },
  {
   "cell_type": "code",
   "execution_count": null,
   "metadata": {},
   "outputs": [],
   "source": []
  }
 ],
 "metadata": {
  "kernelspec": {
   "display_name": "Python 2",
   "language": "python",
   "name": "python2"
  },
  "language_info": {
   "codemirror_mode": {
    "name": "ipython",
    "version": 2
   },
   "file_extension": ".py",
   "mimetype": "text/x-python",
   "name": "python",
   "nbconvert_exporter": "python",
   "pygments_lexer": "ipython2",
   "version": "2.7.12"
  }
 },
 "nbformat": 4,
 "nbformat_minor": 2
}
